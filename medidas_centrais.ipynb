{
  "cells": [
    {
      "cell_type": "markdown",
      "metadata": {
        "id": "view-in-github",
        "colab_type": "text"
      },
      "source": [
        "<a href=\"https://colab.research.google.com/github/gbsv25/Distribuicao-de-frequencia-e-Medidas-Centrais-utilizando-dados-do-ENEM-2019/blob/main/medidas_centrais.ipynb\" target=\"_parent\"><img src=\"https://colab.research.google.com/assets/colab-badge.svg\" alt=\"Open In Colab\"/></a>"
      ]
    },
    {
      "cell_type": "markdown",
      "metadata": {
        "id": "X5jp2P5QClJz"
      },
      "source": [
        "# --- 1. Medidas de Tendência Central ---"
      ]
    },
    {
      "cell_type": "code",
      "execution_count": null,
      "metadata": {
        "id": "oECWQVeCQWcJ"
      },
      "outputs": [],
      "source": [
        "from google.colab import drive\n",
        "drive.mount('/content/drive')"
      ]
    },
    {
      "cell_type": "code",
      "execution_count": null,
      "metadata": {
        "id": "OuNkIpOtuybE"
      },
      "outputs": [],
      "source": [
        "import numpy as np\n",
        "import pandas as pd"
      ]
    },
    {
      "cell_type": "code",
      "execution_count": null,
      "metadata": {
        "id": "YDM4iMSYuzPo"
      },
      "outputs": [],
      "source": [
        "enem_sp = pd.read_csv('/content/drive/MyDrive/projetos portifólio/enem_2019_tratado.csv',\n",
        "                      sep=',', encoding='iso-8859-1')"
      ]
    },
    {
      "cell_type": "code",
      "execution_count": null,
      "metadata": {
        "id": "k-m0aRXUuRAN"
      },
      "outputs": [],
      "source": [
        "enem_sp.describe()"
      ]
    },
    {
      "cell_type": "markdown",
      "metadata": {
        "id": "_8hMwX4HU7Um"
      },
      "source": [
        "## Encontrando a Média"
      ]
    },
    {
      "cell_type": "code",
      "execution_count": null,
      "metadata": {
        "id": "-bGgu6it9ChD"
      },
      "outputs": [],
      "source": [
        "# Média\n",
        "# Calcula a média das variáveis principais e arredonda para mostrar apenas 2 casas decimais.\n",
        "print(\"Média das variáveis principais:\")\n",
        "print(\"Idade:\", round(enem_sp['IDADE'].mean(), 2))\n",
        "print(\"Nota Redação:\", round(enem_sp['NOTA_REDACAO'].mean(), 2))\n",
        "print(\"Nota Matemática:\", round(enem_sp['NOTA_MT'].mean(), 2))\n",
        "print(\"Nota Ciências da Natureza:\", round(enem_sp['NOTA_CN'].mean(), 2))\n",
        "print(\"Nota Ciências Humanas:\", round(enem_sp['NOTA_CH'].mean(), 2))\n",
        "print(\"Nota Linguagens e Códigos:\", round(enem_sp['NOTA_LC'].mean(), 2))"
      ]
    },
    {
      "cell_type": "markdown",
      "metadata": {
        "id": "fvQA7m7jVA0d"
      },
      "source": [
        "## Encontrando a Mediana"
      ]
    },
    {
      "cell_type": "code",
      "execution_count": null,
      "metadata": {
        "id": "ECEMxAp_8nQ8"
      },
      "outputs": [],
      "source": [
        "# Mediana\n",
        "# Calcula a mediana das variáveis principais.\n",
        "print(\"\\nMediana das variáveis principais:\")\n",
        "print(\"Idade:\", enem_sp['IDADE'].median())\n",
        "print(\"Nota Redação:\", enem_sp['NOTA_REDACAO'].median())\n",
        "print(\"Nota Matemática:\", enem_sp['NOTA_MT'].median())\n",
        "print(\"Nota Ciências da Natureza:\", enem_sp['NOTA_CN'].median())\n",
        "print(\"Nota Ciências Humanas:\", enem_sp['NOTA_CH'].median())\n",
        "print(\"Nota Linguagens e Códigos:\", enem_sp['NOTA_LC'].median())"
      ]
    },
    {
      "cell_type": "code",
      "execution_count": null,
      "metadata": {
        "id": "VlC8BDFXErKM"
      },
      "outputs": [],
      "source": [
        "round(enem_sp.describe(),1)"
      ]
    },
    {
      "cell_type": "markdown",
      "metadata": {
        "id": "w-mFvecoVJXK"
      },
      "source": [
        "## Encontrando a Moda"
      ]
    },
    {
      "cell_type": "code",
      "execution_count": null,
      "metadata": {
        "id": "qR6XXEhN95RR"
      },
      "outputs": [],
      "source": [
        "# Moda\n",
        "# Calcula a moda das variáveis principais. 'mode()[0]' pega o primeiro valor se houver múltiplas modas.\n",
        "print(\"\\nModa das variáveis principais:\")\n",
        "print(\"Idade:\", enem_sp['IDADE'].mode()[0])\n",
        "print(\"Nota Redação:\", enem_sp['NOTA_REDACAO'].mode()[0])\n",
        "print(\"Nota Matemática:\", enem_sp['NOTA_MT'].mode()[0])\n",
        "print(\"Nota Ciências da Natureza:\", enem_sp['NOTA_CN'].mode()[0])\n",
        "print(\"Nota Ciências Humanas:\", enem_sp['NOTA_CH'].mode()[0])\n",
        "print(\"Nota Linguagens e Códigos:\", enem_sp['NOTA_LC'].mode()[0])"
      ]
    },
    {
      "cell_type": "markdown",
      "metadata": {
        "id": "xcGOEiDU-WnQ"
      },
      "source": [
        "# 2. Medidas de Dispersão"
      ]
    },
    {
      "cell_type": "code",
      "execution_count": null,
      "metadata": {
        "id": "YS0BrWeX-KZh"
      },
      "outputs": [],
      "source": [
        "# Desvio Padrão\n",
        "print(\"\\nDesvio padrão das notas:\")\n",
        "print(enem_sp[['NOTA_REDACAO', 'NOTA_MT', 'NOTA_CN', 'NOTA_CH', 'NOTA_LC']].std())"
      ]
    },
    {
      "cell_type": "markdown",
      "metadata": {
        "id": "zxA4EdGUWRG3"
      },
      "source": [
        "# 3. Distribuições e Histogramas"
      ]
    },
    {
      "cell_type": "code",
      "execution_count": null,
      "metadata": {
        "id": "lDLCKa3ZSq1b"
      },
      "outputs": [],
      "source": [
        "#Importando bibliotecas eficazes na producção de Histogramas\n",
        "import matplotlib.pyplot as plt\n",
        "import plotly.express as px"
      ]
    },
    {
      "cell_type": "code",
      "execution_count": null,
      "metadata": {
        "id": "J63j82u7A5C4"
      },
      "outputs": [],
      "source": [
        "# Histograma das idades dos candidatos\n",
        "fig = px.histogram(enem_sp, x='IDADE', nbins=15, title='Distribuição das Idades dos Candidatos')\n",
        "fig.update_layout(xaxis_title='Idade', yaxis_title='Frequência')\n",
        "fig.show()"
      ]
    },
    {
      "cell_type": "code",
      "execution_count": null,
      "metadata": {
        "id": "HQ_gnoBnNc_L"
      },
      "outputs": [],
      "source": [
        "#Calculando a moda do componente 3\n",
        "enem_sp.COMP3.mode()"
      ]
    },
    {
      "cell_type": "code",
      "execution_count": null,
      "metadata": {
        "id": "4jl4eatlNing"
      },
      "outputs": [],
      "source": [
        "#Calculando a média do componente 3\n",
        "enem_sp.COMP3.mean()"
      ]
    },
    {
      "cell_type": "code",
      "execution_count": null,
      "metadata": {
        "id": "UqCJm8-JNoQx"
      },
      "outputs": [],
      "source": [
        "#Calculando a mediana do componente 3\n",
        "enem_sp.COMP3.median()"
      ]
    },
    {
      "cell_type": "code",
      "execution_count": null,
      "metadata": {
        "id": "JxIib1HfSJxN"
      },
      "outputs": [],
      "source": [
        "# Histograma de notas do componente 3 da redação\n",
        "grafico =  px.histogram (enem_sp,  x = \"COMP3\", nbins=15)\n",
        "grafico.update_layout(width=400,height=400,title_text='Notas do componente 3 da redação - Enem SP 2019')\n",
        "grafico.show()"
      ]
    },
    {
      "cell_type": "code",
      "execution_count": null,
      "metadata": {
        "id": "ka5owW8KW5nx"
      },
      "outputs": [],
      "source": [
        "#Calculando a moda do componente 2\n",
        "enem_sp.COMP2.mode()"
      ]
    },
    {
      "cell_type": "code",
      "execution_count": null,
      "metadata": {
        "id": "4I9K_aghW5nz"
      },
      "outputs": [],
      "source": [
        "#Calculando a média do componente 2\n",
        "enem_sp.COMP2.mean()"
      ]
    },
    {
      "cell_type": "code",
      "execution_count": null,
      "metadata": {
        "id": "8_7CedU5W5n0"
      },
      "outputs": [],
      "source": [
        "#Calculando a mediana do componente 2\n",
        "enem_sp.COMP2.median()"
      ]
    },
    {
      "cell_type": "code",
      "execution_count": null,
      "metadata": {
        "id": "3aobc-maW5n1"
      },
      "outputs": [],
      "source": [
        "# Histograma de notas do componente 2 da redação\n",
        "grafico =  px.histogram (enem_sp,  x = \"COMP2\", nbins=15)\n",
        "grafico.update_layout(width=400,height=400,title_text='Notas Componente 2: Redação - Enem SP 2019')\n",
        "grafico.show()"
      ]
    },
    {
      "cell_type": "markdown",
      "metadata": {
        "id": "Jvil3MIUAjTx"
      },
      "source": [
        "# 4. Resumo Estatístico Geral"
      ]
    },
    {
      "cell_type": "code",
      "execution_count": null,
      "metadata": {
        "id": "KZhZfzQUAgcB"
      },
      "outputs": [],
      "source": [
        "# Estatísticas descritivas das notas\n",
        "enem_sp.describe().round(1)"
      ]
    },
    {
      "cell_type": "code",
      "execution_count": null,
      "metadata": {
        "id": "N_dZCdPvpM3T"
      },
      "outputs": [],
      "source": [
        "import plotly.express as px"
      ]
    },
    {
      "cell_type": "code",
      "execution_count": null,
      "metadata": {
        "id": "3S8M3Es4pP5D"
      },
      "outputs": [],
      "source": [
        "fig = px.box(enem_sp, y=['NOTA_REDACAO', 'NOTA_MT', 'NOTA_CN', 'NOTA_CH', 'NOTA_LC'],\n",
        "             title='Distribuição das Notas do ENEM 2019')\n",
        "fig.show()"
      ]
    }
  ],
  "metadata": {
    "colab": {
      "provenance": [],
      "include_colab_link": true
    },
    "kernelspec": {
      "display_name": "Python 3",
      "name": "python3"
    },
    "language_info": {
      "name": "python"
    }
  },
  "nbformat": 4,
  "nbformat_minor": 0
}